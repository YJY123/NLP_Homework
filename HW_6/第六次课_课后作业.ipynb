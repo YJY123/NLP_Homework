{
 "cells": [
  {
   "cell_type": "markdown",
   "metadata": {},
   "source": [
    "## 1. 总结过拟合和欠拟合产生的原因"
   ]
  },
  {
   "cell_type": "markdown",
   "metadata": {},
   "source": [
    "### `过拟合产生的原因：`\n",
    "+ 数据有噪声，且噪声数据干扰过大； \n",
    "+ 训练数据不足，有限的训练数据； \n",
    "+ 训练模型过度导致模型非常复杂；\n",
    "+ 模型参数过多，导致模型复杂度高；\n",
    "+ 建模样本抽取错误，数据采样偏差（不够均匀）；\n",
    "+ 建模时的“逻辑假设”到了模型应用时已经不能成立。\n",
    "\n",
    "### `欠拟合产生的原因：`\n",
    "+ 模型不够复杂而无法捕捉数据基本关系，导致模型错误的表示数据； \n",
    "+ 选取的训练特征不够多，即特征项过少； \n",
    "+ 正则化参数过多；\n",
    "+ 模型训练时间不够长，网络没有训练好；\n",
    "+ 样本类别数量不均衡。"
   ]
  },
  {
   "cell_type": "markdown",
   "metadata": {},
   "source": [
    "## 2. 写出已经使用机器学习的三种场景"
   ]
  },
  {
   "cell_type": "markdown",
   "metadata": {},
   "source": [
    "+ 谷歌翻译，word拼写错误检测； \n",
    "+ 音乐app的每日歌曲推荐；\n",
    "+ 大众点评的学习系统，阿里小蜜智能客服。"
   ]
  },
  {
   "cell_type": "markdown",
   "metadata": {},
   "source": [
    "## 3.想出机器学习可以被应用到的三种新场景"
   ]
  },
  {
   "cell_type": "markdown",
   "metadata": {},
   "source": [
    "+ 医疗领域：重大疾病自动诊断； \n",
    "+ 金融领域：自动检测交易是否有欺诈行为；\n",
    "+ 教育领域：智能教学系统，智能辅导答疑系统。"
   ]
  }
 ],
 "metadata": {
  "kernelspec": {
   "display_name": "Python 3",
   "language": "python",
   "name": "python3"
  },
  "language_info": {
   "codemirror_mode": {
    "name": "ipython",
    "version": 3
   },
   "file_extension": ".py",
   "mimetype": "text/x-python",
   "name": "python",
   "nbconvert_exporter": "python",
   "pygments_lexer": "ipython3",
   "version": "3.7.1"
  }
 },
 "nbformat": 4,
 "nbformat_minor": 2
}
